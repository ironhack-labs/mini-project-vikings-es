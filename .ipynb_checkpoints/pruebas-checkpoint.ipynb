{
 "cells": [
  {
   "cell_type": "code",
   "execution_count": 6,
   "id": "acc6a09f-ddfd-4977-a915-6278cf5641df",
   "metadata": {},
   "outputs": [],
   "source": [
    "class Soldier:\n",
    "    def __init__(self, health, strength):\n",
    "        self.health = health\n",
    "        self.strength = strength\n",
    "    \n",
    "    def attack(self):\n",
    "        return self.strength\n",
    "\n",
    "    def receiveDamage(self, damage):\n",
    "        self.health -= damage"
   ]
  },
  {
   "cell_type": "code",
   "execution_count": 7,
   "id": "228985f0-d52c-4220-8ab8-f56be2a90f8f",
   "metadata": {},
   "outputs": [],
   "source": [
    "class Viking(Soldier):\n",
    "    def __init__(self, name, health, strength):\n",
    "        super().__init__(health, strength)\n",
    "        self.name = name\n",
    "\n",
    "    def attack(self):\n",
    "        return self.strength\n",
    "\n",
    "    def battleCry(self):\n",
    "        return 'Odin Owns You All!'\n",
    "\n",
    "    def receiveDamage(self, damage):\n",
    "        self.health -= damage\n",
    "        if self.health > 0:\n",
    "            #return self.name + ' has received 70 points of damage'\n",
    "            #return self.name + ' has received 50 points of damage'\n",
    "            return f'{self.name} has received {damage} points of damage'\n",
    "        else:\n",
    "            #return self.name + ' has died in act of combat'\n",
    "            return f'{self.name} has died in act of combat'\n",
    "            #self.name + ' has died in act of combat'"
   ]
  },
  {
   "cell_type": "code",
   "execution_count": 8,
   "id": "a17a85fd-1e26-471d-b90d-6631cd3ab7db",
   "metadata": {},
   "outputs": [],
   "source": [
    "class Saxon(Soldier):\n",
    "    def __init__(self, health, strength):\n",
    "        super().__init__(health, strength)\n",
    "\n",
    "    def receiveDamage(self, damage):\n",
    "        self.health -= damage\n",
    "        if self.health > 0:\n",
    "            #return f\"Un 'Saxon' ha recibido {damage} puntos de daño.\"\n",
    "            return f'A Saxon has received {damage} points of damage'\n",
    "        else:\n",
    "            return f'A Saxon has died in combat'"
   ]
  },
  {
   "cell_type": "code",
   "execution_count": 11,
   "id": "114ae8fd-65b5-4454-b61d-70b9e6dc8356",
   "metadata": {},
   "outputs": [
    {
     "ename": "TypeError",
     "evalue": "War.addViking() missing 1 required positional argument: 'viking'",
     "output_type": "error",
     "traceback": [
      "\u001b[1;31m---------------------------------------------------------------------------\u001b[0m",
      "\u001b[1;31mTypeError\u001b[0m                                 Traceback (most recent call last)",
      "Cell \u001b[1;32mIn[11], line 1\u001b[0m\n\u001b[1;32m----> 1\u001b[0m \u001b[38;5;28;43;01mclass\u001b[39;49;00m\u001b[43m \u001b[49m\u001b[38;5;21;43;01mWar\u001b[39;49;00m\u001b[43m(\u001b[49m\u001b[43m)\u001b[49m\u001b[43m:\u001b[49m\n\u001b[0;32m      2\u001b[0m \u001b[43m    \u001b[49m\u001b[38;5;28;43;01mdef\u001b[39;49;00m\u001b[43m \u001b[49m\u001b[38;5;21;43m__init__\u001b[39;49m\u001b[43m(\u001b[49m\u001b[38;5;28;43mself\u001b[39;49m\u001b[43m,\u001b[49m\u001b[43m \u001b[49m\u001b[43maddViking\u001b[49m\u001b[43m,\u001b[49m\u001b[43m \u001b[49m\u001b[43maddSaxon\u001b[49m\u001b[43m,\u001b[49m\u001b[43m \u001b[49m\u001b[43mvikingAttack\u001b[49m\u001b[43m,\u001b[49m\u001b[43m \u001b[49m\u001b[43msaxonAttack\u001b[49m\u001b[43m,\u001b[49m\u001b[43m \u001b[49m\u001b[43mshowStatus\u001b[49m\u001b[43m)\u001b[49m\u001b[43m:\u001b[49m\n\u001b[0;32m      3\u001b[0m \u001b[43m        \u001b[49m\u001b[38;5;28;43mself\u001b[39;49m\u001b[38;5;241;43m.\u001b[39;49m\u001b[43maddViking\u001b[49m\u001b[43m \u001b[49m\u001b[38;5;241;43m=\u001b[39;49m\u001b[43m \u001b[49m\u001b[43maddViking\u001b[49m\n",
      "Cell \u001b[1;32mIn[11], line 31\u001b[0m, in \u001b[0;36mWar\u001b[1;34m()\u001b[0m\n\u001b[0;32m     28\u001b[0m \u001b[38;5;28;01mdef\u001b[39;00m \u001b[38;5;21mshowStatus\u001b[39m(\u001b[38;5;28mself\u001b[39m):\n\u001b[0;32m     29\u001b[0m     \u001b[38;5;66;03m# your code here\u001b[39;00m\n\u001b[0;32m     30\u001b[0m     \u001b[38;5;28;01mreturn\u001b[39;00m\n\u001b[1;32m---> 31\u001b[0m \u001b[43maddViking\u001b[49m\u001b[43m(\u001b[49m\u001b[38;5;241;43m10\u001b[39;49m\u001b[43m)\u001b[49m\n",
      "\u001b[1;31mTypeError\u001b[0m: War.addViking() missing 1 required positional argument: 'viking'"
     ]
    }
   ],
   "source": [
    "class War():\n",
    "    def __init__(self, addViking, addSaxon, vikingAttack, saxonAttack, showStatus):\n",
    "        self.addViking = addViking\n",
    "        self.addSaxon = addSaxon\n",
    "        self.vikingAttack = vikingAttack\n",
    "        self.saxonAttack = saxonAttack\n",
    "        self.showStatus = showStatus\n",
    "        self.vikingArmy = []\n",
    "        self.saxonArmy =[]\n",
    "\n",
    "    def addViking(self, viking):\n",
    "        self.viking = vikingsArmy.append(viking)\n",
    "    \n",
    "    def addSaxon(self, saxon):\n",
    "        self.saxon = saxonArmy.append(saxon)\n",
    "    \n",
    "    def vikingAttack(self):\n",
    "        saxon.health -= viking.strength\n",
    "        if saxon.health <= 0:\n",
    "            saxonArmy.pop()\n",
    "        return f'{receiveDamage()} {Saxon} {strength} {Viking}'\n",
    "    \n",
    "    def saxonAttack(self):\n",
    "\n",
    "\n",
    "        return f'{receiveDamage()} {Viking} {strength} {Saxon}'\n",
    "\n",
    "    def showStatus(self):\n",
    "        # your code here\n",
    "        return\n",
    "    addViking(10)"
   ]
  },
  {
   "cell_type": "code",
   "execution_count": null,
   "id": "695f59e3-08d0-4279-88c5-ce732444bcac",
   "metadata": {},
   "outputs": [],
   "source": []
  },
  {
   "cell_type": "code",
   "execution_count": null,
   "id": "eb367113-c6eb-40da-a30c-9214644a6fe2",
   "metadata": {},
   "outputs": [],
   "source": []
  }
 ],
 "metadata": {
  "kernelspec": {
   "display_name": "Python 3 (ipykernel)",
   "language": "python",
   "name": "python3"
  },
  "language_info": {
   "codemirror_mode": {
    "name": "ipython",
    "version": 3
   },
   "file_extension": ".py",
   "mimetype": "text/x-python",
   "name": "python",
   "nbconvert_exporter": "python",
   "pygments_lexer": "ipython3",
   "version": "3.12.6"
  }
 },
 "nbformat": 4,
 "nbformat_minor": 5
}
