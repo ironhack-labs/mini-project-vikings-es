{
 "cells": [
  {
   "cell_type": "code",
   "execution_count": 1,
   "id": "acc6a09f-ddfd-4977-a915-6278cf5641df",
   "metadata": {
    "tags": []
   },
   "outputs": [],
   "source": [
    "class Soldier:\n",
    "    def __init__(self, health, strength):\n",
    "        self.health = health\n",
    "        self.strength = strength\n",
    "    \n",
    "    def attack(self):\n",
    "        return self.strength\n",
    "\n",
    "    def receiveDamage(self, damage):\n",
    "        self.health -= damage"
   ]
  },
  {
   "cell_type": "code",
   "execution_count": 3,
   "id": "228985f0-d52c-4220-8ab8-f56be2a90f8f",
   "metadata": {
    "tags": []
   },
   "outputs": [],
   "source": [
    "class Viking(Soldier):\n",
    "    def __init__(self, name, health, strength):\n",
    "        super().__init__(health, strength)\n",
    "        self.name = name\n",
    "\n",
    "    def attack(self):\n",
    "        return self.strength\n",
    "\n",
    "    def battleCry(self):\n",
    "        return 'Odin Owns You All!'\n",
    "\n",
    "    def receiveDamage(self, damage):\n",
    "        self.health -= damage\n",
    "        if self.health > 0:\n",
    "            #return self.name + ' has received 70 points of damage'\n",
    "            #return self.name + ' has received 50 points of damage'\n",
    "            return f'{self.name} has received {damage} points of damage'\n",
    "        else:\n",
    "            #return self.name + ' has died in act of combat'\n",
    "            return f'{self.name} has died in act of combat'\n",
    "            #self.name + ' has died in act of combat'"
   ]
  },
  {
   "cell_type": "code",
   "execution_count": 5,
   "id": "a17a85fd-1e26-471d-b90d-6631cd3ab7db",
   "metadata": {
    "tags": []
   },
   "outputs": [],
   "source": [
    "class Saxon(Soldier):\n",
    "    def __init__(self, health, strength):\n",
    "        super().__init__(health, strength)\n",
    "\n",
    "    def receiveDamage(self, damage):\n",
    "        self.health -= damage\n",
    "        if self.health > 0:\n",
    "            #return f\"Un 'Saxon' ha recibido {damage} puntos de daño.\"\n",
    "            return f'A Saxon has received {damage} points of damage'\n",
    "        else:\n",
    "            return f'A Saxon has died in combat'"
   ]
  },
  {
   "cell_type": "code",
   "execution_count": 1,
   "id": "114ae8fd-65b5-4454-b61d-70b9e6dc8356",
   "metadata": {},
   "outputs": [],
   "source": [
    "class War:\n",
    "    def __init__(self):\n",
    "        self.vikingArmy = []\n",
    "        self.saxonArmy = []\n",
    "\n",
    "    def addViking(self, viking):\n",
    "        self.vikingArmy.append(viking)\n",
    "\n",
    "    def addSaxon(self, saxon):\n",
    "        self.saxonArmy.append(saxon)\n",
    "\n",
    "    def vikingAttack(self):\n",
    "        # Selecciona un Saxon aleatorio y un Viking aleatorio para la batalla\n",
    "        if len(self.saxonArmy) > 0 and len(self.vikingArmy) > 0:\n",
    "            saxon = random.choice(self.saxonArmy)\n",
    "            viking = random.choice(self.vikingArmy)\n",
    "\n",
    "            # El Viking ataca al Saxon\n",
    "            result = saxon.receiveDamage(viking.attack())\n",
    "\n",
    "            # Si el Saxon muere, se elimina del ejército\n",
    "            if saxon.health <= 0:\n",
    "                self.saxonArmy.remove(saxon)\n",
    "\n",
    "            return result\n",
    "\n",
    "    def saxonAttack(self):\n",
    "        # Selecciona un Viking aleatorio y un Saxon aleatorio para la batalla\n",
    "        if len(self.saxonArmy) > 0 and len(self.vikingArmy) > 0:\n",
    "            saxon = random.choice(self.saxonArmy)\n",
    "            viking = random.choice(self.vikingArmy)\n",
    "\n",
    "            # El Saxon ataca al Viking\n",
    "            result = viking.receiveDamage(saxon.attack())\n",
    "\n",
    "            # Si el Viking muere, se elimina del ejército\n",
    "            if viking.health <= 0:\n",
    "                self.vikingArmy.remove(viking)\n",
    "\n",
    "            return result\n",
    "\n",
    "    def showStatus(self):\n",
    "        # Verifica si uno de los ejércitos ha sido aniquilado\n",
    "        if len(self.saxonArmy) == 0:\n",
    "            return 'Vikings have won the war of the century!'\n",
    "        elif len(self.vikingArmy) == 0:\n",
    "            return 'Saxons have fought for their lives and survive another day...'\n",
    "        else:\n",
    "            return 'Vikings and Saxons are still in the thick of battle.'"
   ]
  }
 ],
 "metadata": {
  "kernelspec": {
   "display_name": "Python 3 (ipykernel)",
   "language": "python",
   "name": "python3"
  },
  "language_info": {
   "codemirror_mode": {
    "name": "ipython",
    "version": 3
   },
   "file_extension": ".py",
   "mimetype": "text/x-python",
   "name": "python",
   "nbconvert_exporter": "python",
   "pygments_lexer": "ipython3",
   "version": "3.11.9"
  }
 },
 "nbformat": 4,
 "nbformat_minor": 5
}
